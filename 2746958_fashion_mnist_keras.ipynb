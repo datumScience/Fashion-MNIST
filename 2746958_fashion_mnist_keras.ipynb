{
  "nbformat": 4,
  "nbformat_minor": 0,
  "metadata": {
    "colab": {
      "name": "2746958_fashion_mnist_keras.ipynb",
      "version": "0.3.2",
      "provenance": [],
      "collapsed_sections": [],
      "include_colab_link": true
    },
    "kernelspec": {
      "name": "python3",
      "display_name": "Python 3"
    },
    "accelerator": "GPU"
  },
  "cells": [
    {
      "cell_type": "markdown",
      "metadata": {
        "id": "view-in-github",
        "colab_type": "text"
      },
      "source": [
        "<a href=\"https://colab.research.google.com/github/datumScience/Fashion-MNIST/blob/master/2746958_fashion_mnist_keras.ipynb\" target=\"_parent\"><img src=\"https://colab.research.google.com/assets/colab-badge.svg\" alt=\"Open In Colab\"/></a>"
      ]
    },
    {
      "metadata": {
        "id": "r2NPAI4jZZgi",
        "colab_type": "text"
      },
      "cell_type": "markdown",
      "source": [
        "#On your own Assignment 3\n",
        "#Fashion MNIST\n",
        "\n",
        "![alt text](https://github.com/margaretmz/deep-learning/blob/master/images/modern%20dl_fash-mnist_keras.png?raw=1)"
      ]
    },
    {
      "metadata": {
        "id": "o2TXG9D7SZuT",
        "colab_type": "text"
      },
      "cell_type": "markdown",
      "source": [
        "#Loading the dataset"
      ]
    },
    {
      "metadata": {
        "id": "d44TznbgZZgm",
        "colab_type": "code",
        "outputId": "210ef1d1-103c-4181-f605-d785f121ed71",
        "colab": {
          "base_uri": "https://localhost:8080/",
          "height": 34
        }
      },
      "cell_type": "code",
      "source": [
        "!pip install -q -U tensorflow>=1.8.0\n",
        "import tensorflow as tf\n",
        "from keras.datasets import fashion_mnist\n",
        "\n",
        "import numpy as np\n",
        "import matplotlib.pyplot as plt\n",
        "\n",
        "# Load the fashion-mnist pre-shuffled train data and test data\n",
        "(x_train, y_train), (x_test, y_test) = fashion_mnist.load_data()\n",
        "print(\"x_train shape:\", x_train.shape, \"y_train shape:\", y_train.shape)"
      ],
      "execution_count": 0,
      "outputs": [
        {
          "output_type": "stream",
          "text": [
            "x_train shape: (60000, 28, 28) y_train shape: (60000,)\n"
          ],
          "name": "stdout"
        }
      ]
    },
    {
      "metadata": {
        "id": "tWORMSC8FDR4",
        "colab_type": "text"
      },
      "cell_type": "markdown",
      "source": [
        "## Visualize the data"
      ]
    },
    {
      "metadata": {
        "id": "aFe4wHGRFKle",
        "colab_type": "code",
        "outputId": "45d25f8e-6fcb-4253-aea5-d679f579b290",
        "colab": {
          "base_uri": "https://localhost:8080/",
          "height": 432
        }
      },
      "cell_type": "code",
      "source": [
        "# Print training set shape - note there are 60,000 training data of image size of 28x28, 60,000 train labels)\n",
        "print(\"x_train shape:\", x_train.shape, \"y_train shape:\", y_train.shape)\n",
        "\n",
        "# Print the number of training and test datasets\n",
        "print(x_train.shape[0], 'train set')\n",
        "print(x_test.shape[0], 'test set')\n",
        "\n",
        "# Define the text labels\n",
        "fashion_mnist_labels = [\"T-shirt/top\",  # index 0\n",
        "                        \"Trouser\",      # index 1\n",
        "                        \"Pullover\",     # index 2 \n",
        "                        \"Dress\",        # index 3 \n",
        "                        \"Coat\",         # index 4\n",
        "                        \"Sandal\",       # index 5\n",
        "                        \"Shirt\",        # index 6 \n",
        "                        \"Sneaker\",      # index 7 \n",
        "                        \"Bag\",          # index 8 \n",
        "                        \"Ankle boot\"]   # index 9\n",
        "\n",
        "# Image index, you can pick any number between 0 and 59,999\n",
        "img_index = 5\n",
        "# y_train contains the lables, ranging from 0 to 9\n",
        "label_index = y_train[img_index]\n",
        "# Print the label, for example 2 Pullover\n",
        "print (\"y = \" + str(label_index) + \" \" +(fashion_mnist_labels[label_index]))\n",
        "# # Show one of the images from the training dataset\n",
        "plt.imshow(x_train[img_index])"
      ],
      "execution_count": 0,
      "outputs": [
        {
          "output_type": "stream",
          "text": [
            "x_train shape: (60000, 28, 28) y_train shape: (60000,)\n",
            "60000 train set\n",
            "10000 test set\n",
            "y = 2 Pullover\n"
          ],
          "name": "stdout"
        },
        {
          "output_type": "execute_result",
          "data": {
            "text/plain": [
              "<matplotlib.image.AxesImage at 0x7efdd676e630>"
            ]
          },
          "metadata": {
            "tags": []
          },
          "execution_count": 237
        },
        {
          "output_type": "display_data",
          "data": {
            "image/png": "[encoded data removed]",
            "text/plain": [
              "<Figure size 576x396 with 1 Axes>"
            ]
          },
          "metadata": {
            "tags": []
          }
        }
      ]
    },
    {
      "metadata": {
        "id": "Zx-Ee6LHZZgt",
        "colab_type": "text"
      },
      "cell_type": "markdown",
      "source": [
        "## Data normalization\n",
        "Normalize the data dimensions so that they are of approximately the same scale."
      ]
    },
    {
      "metadata": {
        "id": "XNh5NIckZZgu",
        "colab_type": "code",
        "colab": {}
      },
      "cell_type": "code",
      "source": [
        "x_train = x_train.astype('float32') / 255\n",
        "x_test = x_test.astype('float32') / 255"
      ],
      "execution_count": 0,
      "outputs": []
    },
    {
      "metadata": {
        "id": "LMSg53fiZZgx",
        "colab_type": "code",
        "outputId": "1c889d61-1b50-49a3-e61f-3429300ed8c8",
        "colab": {
          "base_uri": "https://localhost:8080/",
          "height": 51
        }
      },
      "cell_type": "code",
      "source": [
        "print(\"Number of train data - \" + str(len(x_train)))\n",
        "print(\"Number of test data - \" + str(len(x_test)))"
      ],
      "execution_count": 0,
      "outputs": [
        {
          "output_type": "stream",
          "text": [
            "Number of train data - 60000\n",
            "Number of test data - 10000\n"
          ],
          "name": "stdout"
        }
      ]
    },
    {
      "metadata": {
        "id": "CFlNHktHBtru",
        "colab_type": "text"
      },
      "cell_type": "markdown",
      "source": [
        "## Split the data into train/validation/test data sets\n",
        "\n",
        "\n",
        "*   Training data - used for training the model\n",
        "*   Validation data - used for tuning the hyperparameters and evaluate the models\n",
        "*   Test data - used to test the model after the model has gone through initial vetting by the validation set.\n",
        "\n"
      ]
    },
    {
      "metadata": {
        "id": "1ShU787gZZg0",
        "colab_type": "code",
        "outputId": "9adea0e6-cf75-4d50-c38f-63576b8a8a7e",
        "colab": {
          "base_uri": "https://localhost:8080/",
          "height": 85
        }
      },
      "cell_type": "code",
      "source": [
        "# Further break training data into train / validation sets #performing a 80 - 20 split of data - 80% training and 20% validation\n",
        "(x_train, x_valid) = x_train[12000:], x_train[:12000] \n",
        "(y_train, y_valid) = y_train[12000:], y_train[:12000]\n",
        "\n",
        "# Reshape input data from (28, 28) to (28, 28, 1)\n",
        "w, h = 28, 28\n",
        "x_train = x_train.reshape(x_train.shape[0], w, h, 1)\n",
        "x_valid = x_valid.reshape(x_valid.shape[0], w, h, 1)\n",
        "x_test = x_test.reshape(x_test.shape[0], w, h, 1)\n",
        "\n",
        "# One-hot encode the labels\n",
        "y_train = tf.keras.utils.to_categorical(y_train, 10)\n",
        "y_valid = tf.keras.utils.to_categorical(y_valid, 10)\n",
        "y_test = tf.keras.utils.to_categorical(y_test, 10)\n",
        "\n",
        "# Print training set shape\n",
        "print(\"x_train shape:\", x_train.shape, \"y_train shape:\", y_train.shape)\n",
        "\n",
        "# Print the number of training, validation, and test datasets\n",
        "print(x_train.shape[0], 'train set')\n",
        "print(x_valid.shape[0], 'validation set')\n",
        "print(x_test.shape[0], 'test set')"
      ],
      "execution_count": 0,
      "outputs": [
        {
          "output_type": "stream",
          "text": [
            "x_train shape: (48000, 28, 28, 1) y_train shape: (48000, 10)\n",
            "48000 train set\n",
            "12000 validation set\n",
            "10000 test set\n"
          ],
          "name": "stdout"
        }
      ]
    },
    {
      "metadata": {
        "id": "xjW1-KhYPzzG",
        "colab_type": "text"
      },
      "cell_type": "markdown",
      "source": [
        "#Baseline"
      ]
    },
    {
      "metadata": {
        "id": "SbnEgLZpRbWk",
        "colab_type": "code",
        "colab": {}
      },
      "cell_type": "code",
      "source": [
        "#importing necessary packages\n",
        "import numpy\n",
        "from keras.datasets import mnist\n",
        "from keras.models import Sequential\n",
        "from keras.layers import Dense\n",
        "from keras.layers import Dropout\n",
        "from keras.utils import np_utils\n",
        "from keras.layers.convolutional import Convolution2D\n",
        "from keras.layers.convolutional import MaxPooling2D\n",
        "from keras.layers import Flatten"
      ],
      "execution_count": 0,
      "outputs": []
    },
    {
      "metadata": {
        "id": "VXUIwkNuPzWG",
        "colab_type": "code",
        "colab": {}
      },
      "cell_type": "code",
      "source": [
        "\n",
        "num_classes = y_test.shape[1]\n",
        "#defining the baseline model as specified in the text book\n",
        "from keras import backend as K\n",
        "def baseline_model():\n",
        "# create model\n",
        "  K.set_image_dim_ordering( 'th' )\n",
        "  model = tf.keras.Sequential()\n",
        "\n",
        "  model.add(tf.keras.layers.Conv2D(filters=128, kernel_size=2, padding='same', activation='relu', input_shape=(28,28,1))) \n",
        "  model.add(tf.keras.layers.MaxPooling2D(pool_size=2))\n",
        "  model.add(tf.keras.layers.Dropout(0.3))\n",
        "  model.add(tf.keras.layers.Flatten())\n",
        "  model.add(tf.keras.layers.Dense(128, activation='relu'))\n",
        "  model.add(tf.keras.layers.Dense(num_classes, activation='softmax'))\n",
        "  # Compile model\n",
        "  model.compile(loss= 'categorical_crossentropy' , optimizer= 'adam' , metrics=[ 'accuracy' ])\n",
        "  return model\n",
        "\n"
      ],
      "execution_count": 0,
      "outputs": []
    },
    {
      "metadata": {
        "colab_type": "code",
        "outputId": "0071e3cb-1807-4c08-a44e-db0cbdd4dc5c",
        "id": "xc8_q3E6BlZ1",
        "colab": {
          "base_uri": "https://localhost:8080/",
          "height": 408
        }
      },
      "cell_type": "code",
      "source": [
        "# build the model\n",
        "baseline = baseline_model()\n",
        "# Fit the model\n",
        "baseline.fit(x_train, y_train, validation_data=(x_valid, y_valid), nb_epoch=10, batch_size=200,\n",
        "verbose=2)\n",
        "# Final evaluation of the model\n",
        "scores = baseline.evaluate(x_test, y_test, verbose=0)\n",
        "print(\"CNN Error: %.2f%%\" % (100-scores[1]*100))"
      ],
      "execution_count": 0,
      "outputs": [
        {
          "output_type": "stream",
          "text": [
            "WARNING:tensorflow:The `nb_epoch` argument in `fit` has been renamed `epochs`.\n",
            "Train on 48000 samples, validate on 12000 samples\n",
            "Epoch 1/10\n",
            " - 8s - loss: 0.4675 - acc: 0.8345 - val_loss: 0.3436 - val_acc: 0.8808\n",
            "Epoch 2/10\n",
            " - 7s - loss: 0.3142 - acc: 0.8875 - val_loss: 0.3164 - val_acc: 0.8861\n",
            "Epoch 3/10\n",
            " - 7s - loss: 0.2738 - acc: 0.9014 - val_loss: 0.2712 - val_acc: 0.9039\n",
            "Epoch 4/10\n",
            " - 7s - loss: 0.2444 - acc: 0.9112 - val_loss: 0.2618 - val_acc: 0.9091\n",
            "Epoch 5/10\n",
            " - 7s - loss: 0.2302 - acc: 0.9159 - val_loss: 0.2630 - val_acc: 0.9034\n",
            "Epoch 6/10\n",
            " - 7s - loss: 0.2095 - acc: 0.9245 - val_loss: 0.2540 - val_acc: 0.9078\n",
            "Epoch 7/10\n",
            " - 7s - loss: 0.1967 - acc: 0.9266 - val_loss: 0.2486 - val_acc: 0.9101\n",
            "Epoch 8/10\n",
            " - 7s - loss: 0.1788 - acc: 0.9345 - val_loss: 0.2414 - val_acc: 0.9150\n",
            "Epoch 9/10\n",
            " - 7s - loss: 0.1679 - acc: 0.9386 - val_loss: 0.2382 - val_acc: 0.9158\n",
            "Epoch 10/10\n",
            " - 7s - loss: 0.1519 - acc: 0.9437 - val_loss: 0.2462 - val_acc: 0.9131\n",
            "CNN Error: 9.00%\n"
          ],
          "name": "stdout"
        }
      ]
    },
    {
      "metadata": {
        "id": "yZR0RC75Rfd3",
        "colab_type": "code",
        "outputId": "60bec070-6570-4515-99a4-b87634152093",
        "colab": {
          "base_uri": "https://localhost:8080/",
          "height": 51
        }
      },
      "cell_type": "code",
      "source": [
        "test_accuracy(x_test,y_test,baseline)"
      ],
      "execution_count": 0,
      "outputs": [
        {
          "output_type": "stream",
          "text": [
            "\n",
            " Test accuracy: 0.91\n"
          ],
          "name": "stdout"
        }
      ]
    },
    {
      "metadata": {
        "id": "E1v-cQPAtfjX",
        "colab_type": "text"
      },
      "cell_type": "markdown",
      "source": [
        "#New Model"
      ]
    },
    {
      "metadata": {
        "id": "QgTZ47SsZZg4",
        "colab_type": "code",
        "outputId": "f7ae9cce-27ea-4ddd-b2c7-f24338360559",
        "colab": {
          "base_uri": "https://localhost:8080/",
          "height": 612
        }
      },
      "cell_type": "code",
      "source": [
        "model = tf.keras.Sequential()\n",
        "\n",
        "# Must define the input shape in the first layer of the neural network\n",
        "model.add(tf.keras.layers.Conv2D(filters=128, kernel_size=2, padding='same', activation='relu', input_shape=(28,28,1))) \n",
        "model.add(tf.keras.layers.MaxPooling2D(pool_size=2))\n",
        "model.add(tf.keras.layers.Dropout(0.3))\n",
        "\n",
        "model.add(tf.keras.layers.Conv2D(filters=64, kernel_size=2, padding='same', activation='relu'))\n",
        "model.add(tf.keras.layers.MaxPooling2D(pool_size=2))\n",
        "model.add(tf.keras.layers.Dropout(0.3))\n",
        "\n",
        "\n",
        "model.add(tf.keras.layers.Flatten())\n",
        "model.add(tf.keras.layers.Dense(256, activation='relu'))\n",
        "model.add(tf.keras.layers.Dropout(0.5))\n",
        "model.add(tf.keras.layers.Dense(128, activation='relu'))\n",
        "model.add(tf.keras.layers.Dropout(0.5))\n",
        "model.add(tf.keras.layers.Dense(64, activation='relu'))\n",
        "model.add(tf.keras.layers.Dropout(0.5))\n",
        "model.add(tf.keras.layers.Dense(10, activation='softmax'))\n",
        "\n",
        "# Take a look at the model summary\n",
        "model.summary()"
      ],
      "execution_count": 0,
      "outputs": [
        {
          "output_type": "stream",
          "text": [
            "_________________________________________________________________\n",
            "Layer (type)                 Output Shape              Param #   \n",
            "=================================================================\n",
            "conv2d_18 (Conv2D)           (None, 28, 28, 128)       640       \n",
            "_________________________________________________________________\n",
            "max_pooling2d_17 (MaxPooling (None, 14, 14, 128)       0         \n",
            "_________________________________________________________________\n",
            "dropout_39 (Dropout)         (None, 14, 14, 128)       0         \n",
            "_________________________________________________________________\n",
            "conv2d_19 (Conv2D)           (None, 14, 14, 64)        32832     \n",
            "_________________________________________________________________\n",
            "max_pooling2d_18 (MaxPooling (None, 7, 7, 64)          0         \n",
            "_________________________________________________________________\n",
            "dropout_40 (Dropout)         (None, 7, 7, 64)          0         \n",
            "_________________________________________________________________\n",
            "flatten_9 (Flatten)          (None, 3136)              0         \n",
            "_________________________________________________________________\n",
            "dense_34 (Dense)             (None, 256)               803072    \n",
            "_________________________________________________________________\n",
            "dropout_41 (Dropout)         (None, 256)               0         \n",
            "_________________________________________________________________\n",
            "dense_35 (Dense)             (None, 128)               32896     \n",
            "_________________________________________________________________\n",
            "dropout_42 (Dropout)         (None, 128)               0         \n",
            "_________________________________________________________________\n",
            "dense_36 (Dense)             (None, 64)                8256      \n",
            "_________________________________________________________________\n",
            "dropout_43 (Dropout)         (None, 64)                0         \n",
            "_________________________________________________________________\n",
            "dense_37 (Dense)             (None, 10)                650       \n",
            "=================================================================\n",
            "Total params: 878,346\n",
            "Trainable params: 878,346\n",
            "Non-trainable params: 0\n",
            "_________________________________________________________________\n"
          ],
          "name": "stdout"
        }
      ]
    },
    {
      "metadata": {
        "id": "FhxJ5dinZZg8",
        "colab_type": "text"
      },
      "cell_type": "markdown",
      "source": [
        "## Compile the model\n",
        "Configure the learning process with compile() API before training the model. It receives three arguments:\n",
        "\n",
        "*   An optimizer \n",
        "*   A loss function \n",
        "*   A list of metrics \n"
      ]
    },
    {
      "metadata": {
        "id": "CQUlOa8cZZg9",
        "colab_type": "code",
        "colab": {}
      },
      "cell_type": "code",
      "source": [
        "model.compile(loss='categorical_crossentropy',\n",
        "             optimizer='adam',\n",
        "             metrics=['accuracy'])\n"
      ],
      "execution_count": 0,
      "outputs": []
    },
    {
      "metadata": {
        "id": "aTPUTIcGLmJ9",
        "colab_type": "code",
        "colab": {}
      },
      "cell_type": "code",
      "source": [
        "def cnn_model():\n",
        "  model = tf.keras.Sequential()\n",
        "\n",
        "  # Must define the input shape in the first layer of the neural network\n",
        "  model.add(tf.keras.layers.Conv2D(filters=128, kernel_size=2, padding='same', activation='relu', input_shape=(28,28,1))) \n",
        "  model.add(tf.keras.layers.MaxPooling2D(pool_size=2))\n",
        "  model.add(tf.keras.layers.Dropout(0.3))\n",
        "\n",
        "  model.add(tf.keras.layers.Conv2D(filters=64, kernel_size=2, padding='same', activation='relu'))\n",
        "  model.add(tf.keras.layers.MaxPooling2D(pool_size=2))\n",
        "  model.add(tf.keras.layers.Dropout(0.3))\n",
        "\n",
        "\n",
        "  model.add(tf.keras.layers.Flatten())\n",
        "  model.add(tf.keras.layers.Dense(256, activation='relu'))\n",
        "  model.add(tf.keras.layers.Dropout(0.5))\n",
        "  model.add(tf.keras.layers.Dense(128, activation='relu'))\n",
        "  model.add(tf.keras.layers.Dropout(0.5))\n",
        "  model.add(tf.keras.layers.Dense(64, activation='relu'))\n",
        "  model.add(tf.keras.layers.Dropout(0.5))\n",
        "  model.add(tf.keras.layers.Dense(10, activation='softmax'))\n",
        "\n",
        "  # Take a look at the model summary\n",
        "  model.summary()\n",
        "\n",
        "  model.compile(loss='categorical_crossentropy',\n",
        "             optimizer='adam',\n",
        "             metrics=['accuracy'])\n",
        "  return model"
      ],
      "execution_count": 0,
      "outputs": []
    },
    {
      "metadata": {
        "id": "DtOvh3YVZZg_",
        "colab_type": "text"
      },
      "cell_type": "markdown",
      "source": [
        "## Train the model\n",
        "\n",
        "Now let's train the model with fit() API.\n",
        "\n",
        "We use  the [ModelCheckpoint](https://keras.io/callbacks/#modelcheckpoint) API to save the model after every epoch. Set \"save_best_only = True\" to save only when the validation accuracy improves.\n"
      ]
    },
    {
      "metadata": {
        "id": "GuEUmPUX8jXP",
        "colab_type": "text"
      },
      "cell_type": "markdown",
      "source": [
        "#Defining the callback and ModelCheckpoint classes"
      ]
    },
    {
      "metadata": {
        "id": "P0-5LNYX8ogN",
        "colab_type": "text"
      },
      "cell_type": "markdown",
      "source": [
        "I kept getting an error while trying to invoke ModelCheckpoint defined in keras. (\"on_train_batch_begin\" attribute not found in ModelCheckpoint). To combat that, I copied the source code for ModelCheckpoint and its parent class Callback and added the outlines for on_train_batch_begin and on_train_batch_end."
      ]
    },
    {
      "metadata": {
        "id": "_XlTFFjS5iYU",
        "colab_type": "code",
        "colab": {}
      },
      "cell_type": "code",
      "source": [
        "class Callback(object):\n",
        "    \"\"\"Abstract base class used to build new callbacks.\n",
        "    # Properties\n",
        "        params: dict. Training parameters\n",
        "            (eg. verbosity, batch size, number of epochs...).\n",
        "        model: instance of `keras.models.Model`.\n",
        "            Reference of the model being trained.\n",
        "    The `logs` dictionary that callback methods\n",
        "    take as argument will contain keys for quantities relevant to\n",
        "    the current batch or epoch.\n",
        "    Currently, the `.fit()` method of the `Sequential` model class\n",
        "    will include the following quantities in the `logs` that\n",
        "    it passes to its callbacks:\n",
        "        on_epoch_end: logs include `acc` and `loss`, and\n",
        "            optionally include `val_loss`\n",
        "            (if validation is enabled in `fit`), and `val_acc`\n",
        "            (if validation and accuracy monitoring are enabled).\n",
        "        on_batch_begin: logs include `size`,\n",
        "            the number of samples in the current batch.\n",
        "        on_batch_end: logs include `loss`, and optionally `acc`\n",
        "            (if accuracy monitoring is enabled).\n",
        "    \"\"\"\n",
        "\n",
        "    def __init__(self):\n",
        "        self.validation_data = None\n",
        "        self.model = None\n",
        "\n",
        "    def set_params(self, params):\n",
        "        self.params = params\n",
        "\n",
        "    def set_model(self, model):\n",
        "        self.model = model\n",
        "\n",
        "    def on_batch_begin(self, batch, logs=None):\n",
        "        \"\"\"A backwards compatibility alias for `on_train_batch_begin`.\"\"\"\n",
        "\n",
        "    def on_batch_end(self, batch, logs=None):\n",
        "        \"\"\"A backwards compatibility alias for `on_train_batch_end`.\"\"\"\n",
        "\n",
        "    def on_epoch_begin(self, epoch, logs=None):\n",
        "        \"\"\"Called at the start of an epoch.\n",
        "        Subclasses should override for any actions to run. This function should only\n",
        "        be called during train mode.\n",
        "        # Arguments\n",
        "            epoch: integer, index of epoch.\n",
        "            logs: dict, currently no data is passed to this argument for this method\n",
        "                but that may change in the future.\n",
        "        \"\"\"\n",
        "\n",
        "    def on_epoch_end(self, epoch, logs=None):\n",
        "        \"\"\"Called at the end of an epoch.\n",
        "        Subclasses should override for any actions to run. This function should only\n",
        "        be called during train mode.\n",
        "        # Arguments\n",
        "            epoch: integer, index of epoch.\n",
        "            logs: dict, metric results for this training epoch, and for the\n",
        "                validation epoch if validation is performed. Validation result keys\n",
        "                are prefixed with `val_`.\n",
        "        \"\"\"\n",
        "\n",
        "    def on_train_batch_begin(self, batch, logs=None):\n",
        "        \"\"\"Called at the beginning of a training batch in `fit` methods.\n",
        "        Subclasses should override for any actions to run.\n",
        "        # Arguments\n",
        "            batch: integer, index of batch within the current epoch.\n",
        "            logs: dict, has keys `batch` and `size` representing the current\n",
        "                batch number and the size of the batch.\n",
        "        \"\"\"\n",
        "        # For backwards compatibility\n",
        "        self.on_batch_begin(batch, logs=logs)\n",
        "\n",
        "    def on_train_batch_end(self, batch, logs=None):\n",
        "        \"\"\"Called at the end of a training batch in `fit` methods.\n",
        "        Subclasses should override for any actions to run.\n",
        "        # Arguments\n",
        "            batch: integer, index of batch within the current epoch.\n",
        "            logs: dict, metric results for this batch.\n",
        "        \"\"\"\n",
        "        # For backwards compatibility\n",
        "        self.on_batch_end(batch, logs=logs)\n",
        "\n",
        "    def on_test_batch_begin(self, batch, logs=None):\n",
        "        \"\"\"Called at the beginning of a batch in `evaluate` methods.\n",
        "        Also called at the beginning of a validation batch in the `fit` methods,\n",
        "        if validation data is provided.\n",
        "        Subclasses should override for any actions to run.\n",
        "        # Arguments\n",
        "            batch: integer, index of batch within the current epoch.\n",
        "            logs: dict, has keys `batch` and `size` representing the current\n",
        "                batch number and the size of the batch.\n",
        "        \"\"\"\n",
        "\n",
        "    def on_test_batch_end(self, batch, logs=None):\n",
        "        \"\"\"Called at the end of a batch in `evaluate` methods.\n",
        "        Also called at the end of a validation batch in the `fit` methods,\n",
        "        if validation data is provided.\n",
        "        Subclasses should override for any actions to run.\n",
        "        # Arguments\n",
        "            batch: integer, index of batch within the current epoch.\n",
        "            logs: dict, metric results for this batch.\n",
        "        \"\"\"\n",
        "\n",
        "    def on_predict_batch_begin(self, batch, logs=None):\n",
        "        \"\"\"Called at the beginning of a batch in `predict` methods.\n",
        "        Subclasses should override for any actions to run.\n",
        "        # Arguments\n",
        "            batch: integer, index of batch within the current epoch.\n",
        "            logs: dict, has keys `batch` and `size` representing the current\n",
        "                batch number and the size of the batch.\n",
        "        \"\"\"\n",
        "\n",
        "    def on_predict_batch_end(self, batch, logs=None):\n",
        "        \"\"\"Called at the end of a batch in `predict` methods.\n",
        "        Subclasses should override for any actions to run.\n",
        "        # Arguments\n",
        "            batch: integer, index of batch within the current epoch.\n",
        "            logs: dict, metric results for this batch.\n",
        "        \"\"\"\n",
        "\n",
        "    def on_train_begin(self, logs=None):\n",
        "        \"\"\"Called at the beginning of training.\n",
        "        Subclasses should override for any actions to run.\n",
        "        # Arguments\n",
        "            logs: dict, currently no data is passed to this argument for this method\n",
        "                but that may change in the future.\n",
        "        \"\"\"\n",
        "\n",
        "    def on_train_end(self, logs=None):\n",
        "        \"\"\"Called at the end of training.\n",
        "        Subclasses should override for any actions to run.\n",
        "        # Arguments\n",
        "            logs: dict, currently no data is passed to this argument for this method\n",
        "                but that may change in the future.\n",
        "        \"\"\"\n",
        "\n",
        "    def on_test_begin(self, logs=None):\n",
        "        \"\"\"Called at the beginning of evaluation or validation.\n",
        "        Subclasses should override for any actions to run.\n",
        "        # Arguments\n",
        "            logs: dict, currently no data is passed to this argument for this method\n",
        "                but that may change in the future.\n",
        "        \"\"\"\n",
        "\n",
        "    def on_test_end(self, logs=None):\n",
        "        \"\"\"Called at the end of evaluation or validation.\n",
        "        Subclasses should override for any actions to run.\n",
        "        # Arguments\n",
        "            logs: dict, currently no data is passed to this argument for this method\n",
        "                but that may change in the future.\n",
        "        \"\"\"\n",
        "\n",
        "    def on_predict_begin(self, logs=None):\n",
        "        \"\"\"Called at the beginning of prediction.\n",
        "        Subclasses should override for any actions to run.\n",
        "        # Arguments\n",
        "            logs: dict, currently no data is passed to this argument for this method\n",
        "                but that may change in the future.\n",
        "        \"\"\"\n",
        "\n",
        "    def on_predict_end(self, logs=None):\n",
        "        \"\"\"Called at the end of prediction.\n",
        "        Subclasses should override for any actions to run.\n",
        "        # Arguments\n",
        "            logs: dict, currently no data is passed to this argument for this method\n",
        "                but that may change in the future.\n",
        "        \"\"\"\n",
        "\n",
        "\n",
        "class ModelCheckpoint(Callback):\n",
        "    \"\"\"Save the model after every epoch.\n",
        "    `filepath` can contain named formatting options,\n",
        "    which will be filled with the values of `epoch` and\n",
        "    keys in `logs` (passed in `on_epoch_end`).\n",
        "    For example: if `filepath` is `weights.{epoch:02d}-{val_loss:.2f}.hdf5`,\n",
        "    then the model checkpoints will be saved with the epoch number and\n",
        "    the validation loss in the filename.\n",
        "    # Arguments\n",
        "        filepath: string, path to save the model file.\n",
        "        monitor: quantity to monitor.\n",
        "        verbose: verbosity mode, 0 or 1.\n",
        "        save_best_only: if `save_best_only=True`,\n",
        "            the latest best model according to\n",
        "            the quantity monitored will not be overwritten.\n",
        "        save_weights_only: if True, then only the model's weights will be\n",
        "            saved (`model.save_weights(filepath)`), else the full model\n",
        "            is saved (`model.save(filepath)`).\n",
        "        mode: one of {auto, min, max}.\n",
        "            If `save_best_only=True`, the decision\n",
        "            to overwrite the current save file is made\n",
        "            based on either the maximization or the\n",
        "            minimization of the monitored quantity. For `val_acc`,\n",
        "            this should be `max`, for `val_loss` this should\n",
        "            be `min`, etc. In `auto` mode, the direction is\n",
        "            automatically inferred from the name of the monitored quantity.\n",
        "        period: Interval (number of epochs) between checkpoints.\n",
        "    \"\"\"\n",
        "\n",
        "    def __init__(self, filepath, monitor='val_loss', verbose=0,\n",
        "                 save_best_only=False, save_weights_only=False,\n",
        "                 mode='auto', period=1):\n",
        "        super(ModelCheckpoint, self).__init__()\n",
        "        self.monitor = monitor\n",
        "        self.verbose = verbose\n",
        "        self.filepath = filepath\n",
        "        self.save_best_only = save_best_only\n",
        "        self.save_weights_only = save_weights_only\n",
        "        self.period = period\n",
        "        self.epochs_since_last_save = 0\n",
        "\n",
        "        if mode not in ['auto', 'min', 'max']:\n",
        "            warnings.warn('ModelCheckpoint mode %s is unknown, '\n",
        "                          'fallback to auto mode.' % (mode),\n",
        "                          RuntimeWarning)\n",
        "            mode = 'auto'\n",
        "\n",
        "        if mode == 'min':\n",
        "            self.monitor_op = np.less\n",
        "            self.best = np.Inf\n",
        "        elif mode == 'max':\n",
        "            self.monitor_op = np.greater\n",
        "            self.best = -np.Inf\n",
        "        else:\n",
        "            if 'acc' in self.monitor or self.monitor.startswith('fmeasure'):\n",
        "                self.monitor_op = np.greater\n",
        "                self.best = -np.Inf\n",
        "            else:\n",
        "                self.monitor_op = np.less\n",
        "                self.best = np.Inf\n",
        "\n",
        "\n",
        "    def on_train_batch_begin(self,batch,logs={}):\n",
        "      return\n",
        "    def on_train_batch_end(self,batch,logs={}):\n",
        "      return\n",
        "    def on_epoch_end(self, epoch, logs=None):\n",
        "        logs = logs or {}\n",
        "        self.epochs_since_last_save += 1\n",
        "        if self.epochs_since_last_save >= self.period:\n",
        "            self.epochs_since_last_save = 0\n",
        "            filepath = self.filepath.format(epoch=epoch + 1, **logs)\n",
        "            if self.save_best_only:\n",
        "                current = logs.get(self.monitor)\n",
        "                if current is None:\n",
        "                    warnings.warn('Can save best model only with %s available, '\n",
        "                                  'skipping.' % (self.monitor), RuntimeWarning)\n",
        "                else:\n",
        "                    if self.monitor_op(current, self.best):\n",
        "                        if self.verbose > 0:\n",
        "                            print('\\nEpoch %05d: %s improved from %0.5f to %0.5f,'\n",
        "                                  ' saving model to %s'\n",
        "                                  % (epoch + 1, self.monitor, self.best,\n",
        "                                     current, filepath))\n",
        "                        self.best = current\n",
        "                        if self.save_weights_only:\n",
        "                            self.model.save_weights(filepath, overwrite=True)\n",
        "                        else:\n",
        "                            self.model.save(filepath, overwrite=True)\n",
        "                    else:\n",
        "                        if self.verbose > 0:\n",
        "                            print('\\nEpoch %05d: %s did not improve from %0.5f' %\n",
        "                                  (epoch + 1, self.monitor, self.best))\n",
        "            else:\n",
        "                if self.verbose > 0:\n",
        "                    print('\\nEpoch %05d: saving model to %s' % (epoch + 1, filepath))\n",
        "                if self.save_weights_only:\n",
        "                    self.model.save_weights(filepath, overwrite=True)\n",
        "                else:\n",
        "                    self.model.save(filepath, overwrite=True)\n",
        "\n"
      ],
      "execution_count": 0,
      "outputs": []
    },
    {
      "metadata": {
        "id": "yzNwlT099JHo",
        "colab_type": "text"
      },
      "cell_type": "markdown",
      "source": [
        "#Mounting gdrive"
      ]
    },
    {
      "metadata": {
        "id": "-KpCrINp4ib0",
        "colab_type": "code",
        "outputId": "9e35b0b5-ee06-4bd8-c1e7-942fe58b092c",
        "colab": {
          "base_uri": "https://localhost:8080/",
          "height": 34
        }
      },
      "cell_type": "code",
      "source": [
        "from google.colab import drive\n",
        "drive.mount('/content/gdrive')\n"
      ],
      "execution_count": 0,
      "outputs": [
        {
          "output_type": "stream",
          "text": [
            "Mounted at /content/gdrive\n"
          ],
          "name": "stdout"
        }
      ]
    },
    {
      "metadata": {
        "id": "USfX3ESX9LhR",
        "colab_type": "text"
      },
      "cell_type": "markdown",
      "source": [
        "#Saving model with best validation accuracy"
      ]
    },
    {
      "metadata": {
        "id": "viAelUpf6pzj",
        "colab_type": "code",
        "outputId": "380446c6-daf2-4703-aeac-79184cb914b8",
        "colab": {
          "base_uri": "https://localhost:8080/",
          "height": 731
        }
      },
      "cell_type": "code",
      "source": [
        "\n",
        "checkpointer = ModelCheckpoint(filepath='/content/gdrive/My Drive/myweights-improvement.hdf5', verbose = 1, save_best_only=True)\n",
        "model.fit(x_train,\n",
        "         y_train,\n",
        "         batch_size=64,\n",
        "         epochs=10,\n",
        "         validation_data=(x_valid, y_valid),\n",
        "         callbacks=[checkpointer])"
      ],
      "execution_count": 0,
      "outputs": [
        {
          "output_type": "stream",
          "text": [
            "Train on 48000 samples, validate on 12000 samples\n",
            "Epoch 1/10\n",
            "47872/48000 [============================>.] - ETA: 0s - loss: 0.9130 - acc: 0.6646\n",
            "Epoch 00001: val_loss improved from inf to 0.47138, saving model to /content/gdrive/My Drive/myweights-improvement.hdf5\n",
            "48000/48000 [==============================] - 16s 336us/sample - loss: 0.9121 - acc: 0.6649 - val_loss: 0.4714 - val_acc: 0.8155\n",
            "Epoch 2/10\n",
            "47936/48000 [============================>.] - ETA: 0s - loss: 0.5560 - acc: 0.8074\n",
            "Epoch 00002: val_loss improved from 0.47138 to 0.38578, saving model to /content/gdrive/My Drive/myweights-improvement.hdf5\n",
            "48000/48000 [==============================] - 14s 283us/sample - loss: 0.5560 - acc: 0.8074 - val_loss: 0.3858 - val_acc: 0.8598\n",
            "Epoch 3/10\n",
            "47936/48000 [============================>.] - ETA: 0s - loss: 0.4793 - acc: 0.8369\n",
            "Epoch 00003: val_loss improved from 0.38578 to 0.33745, saving model to /content/gdrive/My Drive/myweights-improvement.hdf5\n",
            "48000/48000 [==============================] - 14s 283us/sample - loss: 0.4792 - acc: 0.8369 - val_loss: 0.3374 - val_acc: 0.8767\n",
            "Epoch 4/10\n",
            "47744/48000 [============================>.] - ETA: 0s - loss: 0.4312 - acc: 0.8555\n",
            "Epoch 00004: val_loss improved from 0.33745 to 0.31540, saving model to /content/gdrive/My Drive/myweights-improvement.hdf5\n",
            "48000/48000 [==============================] - 14s 284us/sample - loss: 0.4313 - acc: 0.8554 - val_loss: 0.3154 - val_acc: 0.8878\n",
            "Epoch 5/10\n",
            "47872/48000 [============================>.] - ETA: 0s - loss: 0.3986 - acc: 0.8657\n",
            "Epoch 00005: val_loss improved from 0.31540 to 0.29885, saving model to /content/gdrive/My Drive/myweights-improvement.hdf5\n",
            "48000/48000 [==============================] - 14s 283us/sample - loss: 0.3985 - acc: 0.8658 - val_loss: 0.2988 - val_acc: 0.8913\n",
            "Epoch 6/10\n",
            "47872/48000 [============================>.] - ETA: 0s - loss: 0.3774 - acc: 0.8732\n",
            "Epoch 00006: val_loss improved from 0.29885 to 0.27635, saving model to /content/gdrive/My Drive/myweights-improvement.hdf5\n",
            "48000/48000 [==============================] - 14s 286us/sample - loss: 0.3774 - acc: 0.8731 - val_loss: 0.2763 - val_acc: 0.9017\n",
            "Epoch 7/10\n",
            "47872/48000 [============================>.] - ETA: 0s - loss: 0.3633 - acc: 0.8773\n",
            "Epoch 00007: val_loss improved from 0.27635 to 0.26919, saving model to /content/gdrive/My Drive/myweights-improvement.hdf5\n",
            "48000/48000 [==============================] - 14s 283us/sample - loss: 0.3631 - acc: 0.8773 - val_loss: 0.2692 - val_acc: 0.9035\n",
            "Epoch 8/10\n",
            "47808/48000 [============================>.] - ETA: 0s - loss: 0.3464 - acc: 0.8824\n",
            "Epoch 00008: val_loss improved from 0.26919 to 0.26066, saving model to /content/gdrive/My Drive/myweights-improvement.hdf5\n",
            "48000/48000 [==============================] - 14s 289us/sample - loss: 0.3468 - acc: 0.8824 - val_loss: 0.2607 - val_acc: 0.9051\n",
            "Epoch 9/10\n",
            "47744/48000 [============================>.] - ETA: 0s - loss: 0.3399 - acc: 0.8837\n",
            "Epoch 00009: val_loss improved from 0.26066 to 0.25351, saving model to /content/gdrive/My Drive/myweights-improvement.hdf5\n",
            "48000/48000 [==============================] - 14s 291us/sample - loss: 0.3392 - acc: 0.8840 - val_loss: 0.2535 - val_acc: 0.9050\n",
            "Epoch 10/10\n",
            "47872/48000 [============================>.] - ETA: 0s - loss: 0.3268 - acc: 0.8890\n",
            "Epoch 00010: val_loss improved from 0.25351 to 0.25022, saving model to /content/gdrive/My Drive/myweights-improvement.hdf5\n",
            "48000/48000 [==============================] - 13s 280us/sample - loss: 0.3268 - acc: 0.8890 - val_loss: 0.2502 - val_acc: 0.9084\n"
          ],
          "name": "stdout"
        },
        {
          "output_type": "execute_result",
          "data": {
            "text/plain": [
              "<tensorflow.python.keras.callbacks.History at 0x7efdd5dbc240>"
            ]
          },
          "metadata": {
            "tags": []
          },
          "execution_count": 256
        }
      ]
    },
    {
      "metadata": {
        "id": "c7dkF9oz8TVB",
        "colab_type": "text"
      },
      "cell_type": "markdown",
      "source": [
        "#Load model with best validation accuracy"
      ]
    },
    {
      "metadata": {
        "id": "3wj3CNPA8J56",
        "colab_type": "code",
        "colab": {}
      },
      "cell_type": "code",
      "source": [
        "# Load the weights with the best validation accuracy\n",
        "model.load_weights('/content/gdrive/My Drive/myweights-improvement.hdf5')"
      ],
      "execution_count": 0,
      "outputs": []
    },
    {
      "metadata": {
        "id": "ZVh9E2na9c3G",
        "colab_type": "text"
      },
      "cell_type": "markdown",
      "source": [
        "#Test Accuracy"
      ]
    },
    {
      "metadata": {
        "id": "2s0LAUBj9ccf",
        "colab_type": "code",
        "outputId": "4dd2e04b-77eb-4718-adb4-8773e135d6af",
        "colab": {
          "base_uri": "https://localhost:8080/",
          "height": 51
        }
      },
      "cell_type": "code",
      "source": [
        "# Evaluate the model on test set\n",
        "score = model.evaluate(x_test, y_test, verbose=0)\n",
        "\n",
        "# Print test accuracy\n",
        "print('\\n', 'Test accuracy:', score[1])"
      ],
      "execution_count": 0,
      "outputs": [
        {
          "output_type": "stream",
          "text": [
            "\n",
            " Test accuracy: 0.91\n"
          ],
          "name": "stdout"
        }
      ]
    },
    {
      "metadata": {
        "id": "9RTRkan4yq5H",
        "colab_type": "text"
      },
      "cell_type": "markdown",
      "source": [
        "## Test Accuracy"
      ]
    },
    {
      "metadata": {
        "id": "VZtqBqFFy62R",
        "colab_type": "code",
        "colab": {}
      },
      "cell_type": "code",
      "source": [
        "def test_accuracy(x_test,y_test,model):\n",
        "  # Evaluate the model on test set\n",
        "  score = model.evaluate(x_test, y_test, verbose=0)\n",
        "\n",
        "  # Print test accuracy\n",
        "  print('\\n', 'Test accuracy:', score[1])"
      ],
      "execution_count": 0,
      "outputs": []
    },
    {
      "metadata": {
        "id": "KRxTWPuNpv72",
        "colab_type": "text"
      },
      "cell_type": "markdown",
      "source": [
        "#Data Preprocessing"
      ]
    },
    {
      "metadata": {
        "id": "TBbJlthJWjrc",
        "colab_type": "text"
      },
      "cell_type": "markdown",
      "source": [
        "##Feature Standardization"
      ]
    },
    {
      "metadata": {
        "id": "mPc1V2xxWren",
        "colab_type": "code",
        "outputId": "31f5693d-a94f-4bd9-9227-83605632d077",
        "colab": {
          "base_uri": "https://localhost:8080/",
          "height": 1202
        }
      },
      "cell_type": "code",
      "source": [
        "# Standardize images across the dataset, mean=0, stdev=1\n",
        "from keras.datasets import mnist\n",
        "from keras.preprocessing.image import ImageDataGenerator\n",
        "from matplotlib import pyplot\n",
        "\n",
        "\n",
        "checkpointer = ModelCheckpoint(filepath='/content/gdrive/My Drive/myweights-improvement-fs.hdf5', verbose = 1, save_best_only=True)\n",
        "# reshape to be [samples][pixels][width][height]\n",
        "x_train = x_train.reshape(x_train.shape[0], 28, 28,1)\n",
        "x_test = x_test.reshape(x_test.shape[0], 28, 28,1)\n",
        "# convert from int to float\n",
        "x_train = x_train.astype( 'float32' )\n",
        "x_test = x_test.astype( 'float32' )\n",
        "# define data preparation\n",
        "datagen = ImageDataGenerator(featurewise_center=True, featurewise_std_normalization=True)\n",
        "# fit parameters from data\n",
        "datagen.fit(x_train)\n",
        "#creating validation generator\n",
        "val_datagen = ImageDataGenerator(zca_whitening=True)\n",
        "val_datagen.fit(x_valid)\n",
        "\n",
        "\n",
        "model = cnn_model()\n",
        "# fits the model on batches with real-time data augmentation:\n",
        "model.fit_generator(datagen.flow(x_train, y_train, batch_size=32),steps_per_epoch=len(x_train) / 32, epochs=10,validation_data = val_datagen.flow(x_valid, y_valid, batch_size=32),callbacks=[checkpointer])\n",
        "\n",
        "# configure batch size and retrieve one batch of images\n",
        "for x_batch, y_batch in datagen.flow(x_train, y_train, batch_size=9):\n",
        "# create a grid of 3x3 images\n",
        "  for i in range(0, 9):\n",
        "   # model.fit(x_batch, y_batch )\n",
        "    pyplot.subplot(330 + 1 + i)\n",
        "    pyplot.imshow(x_batch[i].reshape(28, 28), cmap=pyplot.get_cmap( 'gray' ))\n",
        "# show the plot\n",
        "  pyplot.show()\n",
        "  break\n",
        "  \n",
        "\n"
      ],
      "execution_count": 0,
      "outputs": [
        {
          "output_type": "stream",
          "text": [
            "/usr/local/lib/python3.6/dist-packages/keras_preprocessing/image/image_data_generator.py:923: UserWarning: Expected input to be images (as Numpy array) following the data format convention \"channels_first\" (channels on axis 1), i.e. expected either 1, 3 or 4 channels on axis 1. However, it was passed an array with shape (48000, 28, 28, 1) (28 channels).\n",
            "  ' channels).')\n",
            "/usr/local/lib/python3.6/dist-packages/keras_preprocessing/image/image_data_generator.py:334: UserWarning: This ImageDataGenerator specifies `zca_whitening`, which overrides setting of `featurewise_center`.\n",
            "  warnings.warn('This ImageDataGenerator specifies '\n",
            "/usr/local/lib/python3.6/dist-packages/keras_preprocessing/image/image_data_generator.py:923: UserWarning: Expected input to be images (as Numpy array) following the data format convention \"channels_first\" (channels on axis 1), i.e. expected either 1, 3 or 4 channels on axis 1. However, it was passed an array with shape (12000, 28, 28, 1) (28 channels).\n",
            "  ' channels).')\n"
          ],
          "name": "stderr"
        },
        {
          "output_type": "stream",
          "text": [
            "_________________________________________________________________\n",
            "Layer (type)                 Output Shape              Param #   \n",
            "=================================================================\n",
            "conv2d_20 (Conv2D)           (None, 28, 28, 128)       640       \n",
            "_________________________________________________________________\n",
            "max_pooling2d_19 (MaxPooling (None, 14, 14, 128)       0         \n",
            "_________________________________________________________________\n",
            "dropout_44 (Dropout)         (None, 14, 14, 128)       0         \n",
            "_________________________________________________________________\n",
            "conv2d_21 (Conv2D)           (None, 14, 14, 64)        32832     \n",
            "_________________________________________________________________\n",
            "max_pooling2d_20 (MaxPooling (None, 7, 7, 64)          0         \n",
            "_________________________________________________________________\n",
            "dropout_45 (Dropout)         (None, 7, 7, 64)          0         \n",
            "_________________________________________________________________\n",
            "flatten_10 (Flatten)         (None, 3136)              0         \n",
            "_________________________________________________________________\n",
            "dense_38 (Dense)             (None, 256)               803072    \n",
            "_________________________________________________________________\n",
            "dropout_46 (Dropout)         (None, 256)               0         \n",
            "_________________________________________________________________\n",
            "dense_39 (Dense)             (None, 128)               32896     \n",
            "_________________________________________________________________\n",
            "dropout_47 (Dropout)         (None, 128)               0         \n",
            "_________________________________________________________________\n",
            "dense_40 (Dense)             (None, 64)                8256      \n",
            "_________________________________________________________________\n",
            "dropout_48 (Dropout)         (None, 64)                0         \n",
            "_________________________________________________________________\n",
            "dense_41 (Dense)             (None, 10)                650       \n",
            "=================================================================\n",
            "Total params: 878,346\n",
            "Trainable params: 878,346\n",
            "Non-trainable params: 0\n",
            "_________________________________________________________________\n"
          ],
          "name": "stdout"
        },
        {
          "output_type": "stream",
          "text": [
            "/usr/local/lib/python3.6/dist-packages/keras_preprocessing/image/numpy_array_iterator.py:127: UserWarning: NumpyArrayIterator is set to use the data format convention \"channels_first\" (channels on axis 1), i.e. expected either 1, 3, or 4 channels on axis 1. However, it was passed an array with shape (48000, 28, 28, 1) (28 channels).\n",
            "  str(self.x.shape[channels_axis]) + ' channels).')\n",
            "/usr/local/lib/python3.6/dist-packages/keras_preprocessing/image/numpy_array_iterator.py:127: UserWarning: NumpyArrayIterator is set to use the data format convention \"channels_first\" (channels on axis 1), i.e. expected either 1, 3, or 4 channels on axis 1. However, it was passed an array with shape (12000, 28, 28, 1) (28 channels).\n",
            "  str(self.x.shape[channels_axis]) + ' channels).')\n"
          ],
          "name": "stderr"
        },
        {
          "output_type": "stream",
          "text": [
            "375/375 [==============================] - 5s 13ms/step - loss: 1.1609 - acc: 0.6304\n",
            "\n",
            "Epoch 00001: val_loss improved from inf to 1.16086, saving model to /content/gdrive/My Drive/myweights-improvement-fs.hdf5\n",
            "1500/1500 [==============================] - 30s 20ms/step - loss: 0.8577 - acc: 0.6855 - val_loss: 1.1609 - val_acc: 0.6304\n"
          ],
          "name": "stdout"
        },
        {
          "output_type": "display_data",
          "data": {
            "image/png": "[encoded data removed]",
            "text/plain": [
              "<Figure size 576x396 with 9 Axes>"
            ]
          },
          "metadata": {
            "tags": []
          }
        }
      ]
    },
    {
      "metadata": {
        "id": "QSfD9dtfES0N",
        "colab_type": "text"
      },
      "cell_type": "markdown",
      "source": [
        "The accuracy with feature standardization is quite less, giving only 28% accuracy with the validation set. "
      ]
    },
    {
      "metadata": {
        "id": "ppUVhfnIOEQC",
        "colab_type": "code",
        "colab": {}
      },
      "cell_type": "code",
      "source": [
        "# Load the weights with the best validation accuracy\n",
        "model.load_weights('/content/gdrive/My Drive/myweights-improvement-fs.hdf5')"
      ],
      "execution_count": 0,
      "outputs": []
    },
    {
      "metadata": {
        "id": "KwvDC4qkEgOv",
        "colab_type": "code",
        "outputId": "f61d25ff-9f4a-478a-d950-96e79a78e024",
        "colab": {
          "base_uri": "https://localhost:8080/",
          "height": 51
        }
      },
      "cell_type": "code",
      "source": [
        "  test_accuracy(x_test,y_test,model)"
      ],
      "execution_count": 0,
      "outputs": [
        {
          "output_type": "stream",
          "text": [
            "\n",
            " Test accuracy: 0.408\n"
          ],
          "name": "stdout"
        }
      ]
    },
    {
      "metadata": {
        "id": "aLl9aDKPF385",
        "colab_type": "text"
      },
      "cell_type": "markdown",
      "source": [
        "After choosing the best epoch and evaluating the test set performance we get 91.63% accuracy."
      ]
    },
    {
      "metadata": {
        "id": "lQ_oaiD4Xcrs",
        "colab_type": "text"
      },
      "cell_type": "markdown",
      "source": [
        "##ZCA Whitening"
      ]
    },
    {
      "metadata": {
        "id": "63asRsA3Xe0_",
        "colab_type": "code",
        "colab": {}
      },
      "cell_type": "code",
      "source": [
        "# ZCA whitening\n",
        "from keras.datasets import mnist\n",
        "from keras.preprocessing.image import ImageDataGenerator\n",
        "from matplotlib import pyplot\n",
        "# load data\n",
        "checkpointer = ModelCheckpoint(filepath='/content/gdrive/My Drive/myweights-improvement-zca.hdf5', verbose = 1, save_best_only=True)\n",
        "# reshape to be [samples][pixels][width][height]\n",
        "x_train = x_train.reshape(x_train.shape[0], 28, 28,1)\n",
        "\n",
        "x_test = x_test.reshape(x_test.shape[0],28, 28,1)\n",
        "# convert from int to float\n",
        "x_train = x_train.astype( 'float32' )\n",
        "x_test = x_test.astype( 'float32' )\n",
        "# define data preparation\n",
        "datagen = ImageDataGenerator(zca_whitening=True)\n",
        "# fit parameters from data\n",
        "datagen.fit(x_train)\n",
        "\n",
        "#creating validation generator\n",
        "val_datagen = ImageDataGenerator(zca_whitening=True)\n",
        "val_datagen.fit(x_valid)\n",
        "\n",
        "\n",
        "# fits the model on batches with real-time data augmentation:\n",
        "model.fit_generator(datagen.flow(x_train, y_train, batch_size=32),steps_per_epoch=len(x_train) / 32, epochs=10,validation_data = val_datagen.flow(x_valid, y_valid, batch_size=32),callbacks=[checkpointer])\n",
        "\n",
        "# configure batch size and retrieve one batch of images\n",
        "for x_batch, y_batch in datagen.flow(x_train, y_train, batch_size=9):\n",
        "# create a grid of 3x3 images\n",
        "  for i in range(0, 9):\n",
        "    #model.fit(x_batch,y_batch)\n",
        "    pyplot.subplot(330 + 1 + i)\n",
        "    pyplot.imshow(x_batch[i].reshape(28, 28), cmap=pyplot.get_cmap( 'gray' ))\n",
        "# show the plot\n",
        "  pyplot.show()\n",
        "  break"
      ],
      "execution_count": 0,
      "outputs": []
    },
    {
      "metadata": {
        "id": "CejM9xZ8ISVH",
        "colab_type": "text"
      },
      "cell_type": "markdown",
      "source": [
        "The accuracy on the validation set is 87.79%"
      ]
    },
    {
      "metadata": {
        "id": "hcvc7j3YOdlP",
        "colab_type": "code",
        "colab": {}
      },
      "cell_type": "code",
      "source": [
        "# Load the weights with the best validation accuracy\n",
        "model.load_weights('/content/gdrive/My Drive/myweights-improvement-zca.hdf5')"
      ],
      "execution_count": 0,
      "outputs": []
    },
    {
      "metadata": {
        "id": "mFYohFgqGqpR",
        "colab_type": "code",
        "colab": {}
      },
      "cell_type": "code",
      "source": [
        "test_accuracy(x_test,y_test,model)"
      ],
      "execution_count": 0,
      "outputs": []
    },
    {
      "metadata": {
        "id": "eQP8EEUzIL6a",
        "colab_type": "text"
      },
      "cell_type": "markdown",
      "source": [
        "The accuracy is relatively better with ZCA whitening at 58.2%"
      ]
    },
    {
      "metadata": {
        "id": "76wvV0cNduvp",
        "colab_type": "text"
      },
      "cell_type": "markdown",
      "source": [
        "##Random Shifts"
      ]
    },
    {
      "metadata": {
        "id": "5Vx8IQHqduYL",
        "colab_type": "code",
        "colab": {}
      },
      "cell_type": "code",
      "source": [
        "# Random Rotations\n",
        "from keras.datasets import mnist\n",
        "from keras.preprocessing.image import ImageDataGenerator\n",
        "from matplotlib import pyplot\n",
        "\n",
        "checkpointer = ModelCheckpoint(filepath='/content/gdrive/My Drive/myweights-improvement-rs.hdf5', verbose = 1, save_best_only=True)\n",
        "x_train = x_train.reshape(x_train.shape[0],  28, 28, 1)\n",
        "x_test = x_test.reshape(x_test.shape[0],  28, 28 ,1)\n",
        "# convert from int to float\n",
        "x_train = x_train.astype( 'float32' )\n",
        "x_test = x_test.astype( 'float32' )\n",
        "# define data preparation\n",
        "datagen = ImageDataGenerator(rotation_range=90)\n",
        "# fit parameters from data\n",
        "datagen.fit(x_train)\n",
        "\n",
        "\n",
        "#creating validation generator\n",
        "val_datagen = ImageDataGenerator(zca_whitening=True)\n",
        "val_datagen.fit(x_valid)\n",
        "\n",
        "# fits the model on batches with real-time data augmentation:\n",
        "model.fit_generator(datagen.flow(x_train, y_train, batch_size=32),steps_per_epoch=len(x_train) / 32, epochs=10,validation_data =  val_datagen.flow(x_valid, y_valid, batch_size=32),callbacks=[checkpointer])\n",
        "\n",
        "# configure batch size and retrieve one batch of images\n",
        "for x_batch, y_batch in datagen.flow(x_train, y_train, batch_size=9):\n",
        "# create a grid of 3x3 images\n",
        "  for i in range(0, 9):\n",
        "\n",
        "    pyplot.subplot(330 + 1 + i)\n",
        "    pyplot.imshow(x_batch[i].reshape(28, 28), cmap=pyplot.get_cmap( 'gray' ))\n",
        "    # show the plot\n",
        "  pyplot.show()\n",
        "  break"
      ],
      "execution_count": 0,
      "outputs": []
    },
    {
      "metadata": {
        "id": "JubCOoVtOmDe",
        "colab_type": "code",
        "colab": {}
      },
      "cell_type": "code",
      "source": [
        "# Load the weights with the best validation accuracy\n",
        "model.load_weights('/content/gdrive/My Drive/myweights-improvement-rs.hdf5')"
      ],
      "execution_count": 0,
      "outputs": []
    },
    {
      "metadata": {
        "id": "UHyhAS-TGs5e",
        "colab_type": "code",
        "colab": {}
      },
      "cell_type": "code",
      "source": [
        "test_accuracy(x_test,y_test,model)"
      ],
      "execution_count": 0,
      "outputs": []
    },
    {
      "metadata": {
        "id": "sX2-2hVILruW",
        "colab_type": "text"
      },
      "cell_type": "markdown",
      "source": [
        "Random shift performs even better giving an accuracy  of 78.62%"
      ]
    },
    {
      "metadata": {
        "id": "qm-42M8LdHvP",
        "colab_type": "text"
      },
      "cell_type": "markdown",
      "source": [
        "##Random Flips"
      ]
    },
    {
      "metadata": {
        "id": "t_IB3HwfdJfv",
        "colab_type": "code",
        "colab": {}
      },
      "cell_type": "code",
      "source": [
        "# Random Flips\n",
        "from keras.datasets import mnist\n",
        "from keras.preprocessing.image import ImageDataGenerator\n",
        "from matplotlib import pyplot\n",
        "# load data\n",
        "checkpointer = ModelCheckpoint(filepath='/content/gdrive/My Drive/myweights-improvement-rf.hdf5', verbose = 1, save_best_only=True)\n",
        "# reshape to be [samples][pixels][width][height]\n",
        "x_train = x_train.reshape(x_train.shape[0],  28, 28,1)\n",
        "x_test = x_test.reshape(x_test.shape[0], 28, 28,1)\n",
        "# convert from int to float\n",
        "x_train = x_train.astype( 'float32' )\n",
        "x_test = x_test.astype( 'float32' )\n",
        "# define data preparation\n",
        "datagen = ImageDataGenerator(horizontal_flip=True, vertical_flip=True)\n",
        "# fit parameters from data\n",
        "datagen.fit(x_train)\n",
        "\n",
        "\n",
        "#creating validation generator\n",
        "val_datagen = ImageDataGenerator(zca_whitening=True)\n",
        "val_datagen.fit(x_valid)\n",
        "\n",
        "# fits the model on batches with real-time data augmentation:\n",
        "model.fit_generator(datagen.flow(x_train, y_train, batch_size=32),steps_per_epoch=len(x_train) / 32, epochs=10,validation_data = val_datagen.flow(x_valid, y_valid, batch_size=32),callbacks=[checkpointer])\n",
        "\n",
        "# configure batch size and retrieve one batch of images\n",
        "for x_batch, y_batch in datagen.flow(x_train, y_train, batch_size=9):\n",
        "# create a grid of 3x3 images\n",
        "  for i in range(0, 9):\n",
        "\n",
        "    pyplot.subplot(330 + 1 + i)\n",
        "    pyplot.imshow(x_batch[i].reshape(28, 28), cmap=pyplot.get_cmap( 'gray' ))\n",
        "  # show the plot\n",
        "  pyplot.show()\n",
        "  break"
      ],
      "execution_count": 0,
      "outputs": []
    },
    {
      "metadata": {
        "id": "OM52xiA5GuzU",
        "colab_type": "code",
        "colab": {}
      },
      "cell_type": "code",
      "source": [
        "test_accuracy(x_test,y_test,model)"
      ],
      "execution_count": 0,
      "outputs": []
    },
    {
      "metadata": {
        "id": "_CPdUnEoMn3T",
        "colab_type": "text"
      },
      "cell_type": "markdown",
      "source": [
        "We have a even higher accuracy of 82.37% with the random flips."
      ]
    },
    {
      "metadata": {
        "id": "qk6E2q00a8Hh",
        "colab_type": "text"
      },
      "cell_type": "markdown",
      "source": [
        "#Saving to file"
      ]
    },
    {
      "metadata": {
        "id": "epxQGIDsa-QP",
        "colab_type": "code",
        "colab": {}
      },
      "cell_type": "code",
      "source": [
        "# Save augmented images to file\n",
        "from keras.datasets import mnist\n",
        "from keras.preprocessing.image import ImageDataGenerator\n",
        "from matplotlib import pyplot\n",
        "import os\n",
        "from keras import backend as K\n",
        "K.set_image_dim_ordering( 'th' )\n",
        "\n",
        "\n",
        "x_train = x_train.reshape(x_train.shape[0], 1, 28, 28)\n",
        "x_test = x_test.reshape(x_test.shape[0], 1, 28, 28)\n",
        "# convert from int to float\n",
        "x_train = x_train.astype( 'float32' )\n",
        "x_test = x_test.astype( 'float32' )\n",
        "# define data preparation\n",
        "datagen = ImageDataGenerator()\n",
        "# fit parameters from data\n",
        "datagen.fit(x_train)\n",
        "# configure batch size and retrieve one batch of images\n",
        "os.makedirs( '/content/gdrive/My Drive/augmented_images' )\n",
        "for X_batch, y_batch in datagen.flow(x_train, y_train, batch_size=9, save_to_dir= '/content/gdrive/My Drive/augmented_images' ,\n",
        "save_prefix= 'aug' , save_format= 'png' ):\n",
        "# create a grid of 3x3 images\n",
        "  for i in range(0, 9):\n",
        "    pyplot.subplot(330 + 1 + i)\n",
        "    pyplot.imshow(X_batch[i].reshape(28, 28), cmap=pyplot.get_cmap( 'gray' ))\n",
        "# show the plot\n",
        "  pyplot.show()\n",
        "  break"
      ],
      "execution_count": 0,
      "outputs": []
    },
    {
      "metadata": {
        "id": "oJv7XEk10bOv",
        "colab_type": "text"
      },
      "cell_type": "markdown",
      "source": [
        "## Visualize prediction\n",
        "Now let's visualize the prediction using the model you just trained. \n",
        "First we get the predictions with the model from the test data.\n",
        "Then we print out 15 images from the test data set, and set the titles with the prediction (and the groud truth label).\n",
        "If the prediction matches the true label, the title will be green; otherwise it's displayed in red."
      ]
    },
    {
      "metadata": {
        "id": "QwNmlfIC0YxM",
        "colab_type": "code",
        "colab": {}
      },
      "cell_type": "code",
      "source": [
        "#Predictions with the Random flips pre processing technique. This model has the highest accuracy of the lot\n",
        "y_hat = model.predict(x_test)\n",
        "\n",
        "# Plot a random sample of 10 test images, their predicted labels and ground truth\n",
        "figure = plt.figure(figsize=(20, 8))\n",
        "for i, index in enumerate(np.random.choice(x_test.shape[0], size=15, replace=False)):\n",
        "    ax = figure.add_subplot(3, 5, i + 1, xticks=[], yticks=[])\n",
        "    # Display each image\n",
        "    ax.imshow(np.squeeze(x_test[index]))\n",
        "    predict_index = np.argmax(y_hat[index])\n",
        "    true_index = np.argmax(y_test[index])\n",
        "    # Set the title for each image\n",
        "    ax.set_title(\"{} ({})\".format(fashion_mnist_labels[predict_index], \n",
        "                                  fashion_mnist_labels[true_index]),\n",
        "                                  color=(\"green\" if predict_index == true_index else \"red\"))"
      ],
      "execution_count": 0,
      "outputs": []
    },
    {
      "metadata": {
        "id": "8AehWdRAVKN5",
        "colab_type": "text"
      },
      "cell_type": "markdown",
      "source": [
        "In this exercise the baseline model seems to be performing best. The next steps could be to modify the network architecture of the model under consideration and then incorporating data preprocessing techniques to generate a more powerful CNN model that can effectively classify the items. Of the lot , we find that random flips are the most efficient, relative to other preprocessing techniques. "
      ]
    }
  ]
}